{
 "cells": [
  {
   "cell_type": "markdown",
   "metadata": {},
   "source": [
    "# Monte Carlo\n",
    "\n",
    "This notebook creates two files. For a given number of market situations and a given set of prices, it creates features and saves them in the `demand_prediction_data` file. Next, for each market situation and each price, the notebook runs multiple simulations and tracks purchases. The time horizon is 1.\n",
    "\n",
    "Finally, the notebook calculates the probabilities of a purchase for each price and market situation and stores them in the `PEW_comparison` file."
   ]
  },
  {
   "cell_type": "code",
   "execution_count": null,
   "metadata": {
    "collapsed": true
   },
   "outputs": [],
   "source": [
    "import numpy as np\n",
    "import random\n",
    "import csv"
   ]
  },
  {
   "cell_type": "code",
   "execution_count": null,
   "metadata": {
    "collapsed": true
   },
   "outputs": [],
   "source": [
    "numberPlayers = 5\n",
    "timeHorizon = 1\n",
    "numberMarketReactionEvents = round(1.1*timeHorizon)\n",
    "meanTimeBetweenCustomerArrival = 2\n",
    "numberOfCustomerEvents = round(1.1*timeHorizon/meanTimeBetweenCustomerArrival)\n",
    "prices = np.arange(0,15.1,0.1)\n",
    "watchedCompany = 0\n",
    "numberSimulations = 1000\n",
    "numberConsideredMarketSituations = 10\n",
    "m = 2\n",
    "numberCustomerEvents = 4\n",
    "simulatedHorizon = 1\n",
    "reactionTimeCompany = timeHorizon"
   ]
  },
  {
   "cell_type": "code",
   "execution_count": null,
   "metadata": {
    "collapsed": true
   },
   "outputs": [],
   "source": [
    "pricesCompanies = np.array([round(random.uniform(6,16),2) for _ in range(numberPlayers)])\n",
    "qualityCompanies = np.array([round(random.uniform(0.5,5.5)) for _ in range(numberPlayers)])\n",
    "ratingCompanies = np.array([round(random.uniform(90,100),1) for _ in range(numberPlayers)])"
   ]
  },
  {
   "cell_type": "code",
   "execution_count": null,
   "metadata": {
    "collapsed": true
   },
   "outputs": [],
   "source": [
    "def explanatoryVariables(explanatoryVariable, numberPrice, marketSituation):\n",
    "    return {\n",
    "        '0' : 1,\n",
    "        '1' : priceRanksForFirm[marketSituation][numberPrice],\n",
    "        '2' : 1 if priceRanksForFirm[marketSituation][numberPrice]==1 else 0,\n",
    "        '3' : qualityRankForFirm[marketSituation],\n",
    "        '4' : ratingRanks[marketSituation][watchedCompany],\n",
    "        '5' : prices[numberPrice],\n",
    "        '6' : prices[numberPrice] - min([pricesCompaniesPred[j][marketSituation] for j in range(numberPlayers) if j!=watchedCompany]) if numberPlayers > 1 else 0,\n",
    "        '7' : qualityCompaniesPred[watchedCompany][marketSituation],\n",
    "        '8' : ratingCompaniesPred[watchedCompany][marketSituation],\n",
    "        '9' : 15 - (prices[numberPrice]+0.5*qualityCompaniesPred[watchedCompany][marketSituation]+0.25*(100-ratingCompaniesPred[watchedCompany][marketSituation])) if(\n",
    "        (prices[numberPrice]+0.5*qualityCompaniesPred[watchedCompany][marketSituation]+0.25*(100-ratingCompaniesPred[watchedCompany][marketSituation])) <\n",
    "        min([pricesCompaniesPred[j][marketSituation] +0.5*qualityCompaniesPred[j][marketSituation]+0.25*(100-ratingCompaniesPred[j][marketSituation]) for j in range(numberPlayers) if j!= watchedCompany]))\n",
    "        else 0,\n",
    "    }[str(explanatoryVariable)]"
   ]
  },
  {
   "cell_type": "code",
   "execution_count": null,
   "metadata": {
    "collapsed": true
   },
   "outputs": [],
   "source": [
    "pricesCompaniesPred = np.array([[round(random.uniform(6,16),2) for _ in range(numberConsideredMarketSituations)]  for _ in range(numberPlayers)])\n",
    "qualityCompaniesPred = np.array([[round(random.uniform(0.5,5.5)) for _ in range(numberConsideredMarketSituations)]  for _ in range(numberPlayers)])\n",
    "ratingCompaniesPred = np.array([[round(random.uniform(90,100),1) for _ in range(numberConsideredMarketSituations)] for _ in range(numberPlayers)])\n",
    "\n",
    "priceRanksForFirm = np.array([[1 +  \n",
    "              sum([1 for i in range(numberPlayers) if prices[j]> pricesCompaniesPred[i][w] and i!=watchedCompany]) +\n",
    "              sum([1 for i in range(numberPlayers) if prices[j]== pricesCompaniesPred[i][w] and i!=watchedCompany])/2\n",
    "              for j in range(len(prices))]for w in range(numberConsideredMarketSituations)])\n",
    "qualityRankForFirm = np.array([(1 +  \n",
    "              sum([1 for i in range(numberPlayers) if qualityCompaniesPred[watchedCompany][w]> qualityCompaniesPred[i][w] and i!=watchedCompany]) +\n",
    "              sum([1 for i in range(numberPlayers) if qualityCompaniesPred[watchedCompany][w]== qualityCompaniesPred[i][w] and i!=watchedCompany])/2)for w in range(numberConsideredMarketSituations)])\n",
    "                         \n",
    "ratingRanks = np.array([[1 +  \n",
    "              sum([1 for i in range(numberPlayers) if ratingCompaniesPred[j][w]> ratingCompaniesPred[i][w] and i!=j]) +\n",
    "              sum([1 for i in range(numberPlayers) if ratingCompaniesPred[j][w]== ratingCompaniesPred[i][w] and i!=j])/2\n",
    "              for j in range(numberPlayers)]for w in range(numberConsideredMarketSituations)])\n",
    "\n",
    "numberExplanatoryVariables = 10\n",
    "\n",
    "valuesExplanatoryVariables = [[[explanatoryVariables(explanatoryVariable, numberPrice, w) for explanatoryVariable in range(numberExplanatoryVariables)] for numberPrice in range(len(prices))]for w in range(numberConsideredMarketSituations)]\n",
    "predictionEstimated = [[0.5 for _ in range(len(prices))] for _ in range(numberConsideredMarketSituations)]\n",
    "\n",
    "with open('demand_prediction_data_S3.csv', 'w') as file:\n",
    "    writer = csv.writer(file, delimiter='\\t')\n",
    "    for marketSituation in range(numberConsideredMarketSituations):\n",
    "        for numberPrice in range(len(prices)):\n",
    "            line = list(valuesExplanatoryVariables[marketSituation][numberPrice])\n",
    "            line.remove(1)\n",
    "            line.insert(0, prices[numberPrice])\n",
    "            line.insert(0, marketSituation+1)\n",
    "            writer.writerow(line)"
   ]
  },
  {
   "cell_type": "code",
   "execution_count": null,
   "metadata": {
    "collapsed": true
   },
   "outputs": [],
   "source": [
    "def calculateTimeOfAdjustmentsCompany(company, simulationNumber, i, timeBetweenMarketEventsCompany):\n",
    "    if i==0:\n",
    "        if company != watchedCompany:\n",
    "            return(random.uniform(0,1))\n",
    "        else:\n",
    "            return(reactionTimeCompany)\n",
    "    else:\n",
    "        return(calculateTimeOfAdjustmentsCompany(company, simulationNumber, i-1, timeBetweenMarketEventsCompany)+ timeBetweenMarketEventsCompany[simulationNumber][company][i])\n",
    "    \n",
    "def calculateTimeOfCustomerArrival(customer, simulationNumber, timeBetweenMarketEventsCustomer):\n",
    "    if customer==0:\n",
    "        return 0\n",
    "    else:\n",
    "        return(calculateTimeOfCustomerArrival(customer-1, simulationNumber, timeBetweenMarketEventsCustomer) + timeBetweenMarketEventsCustomer[simulationNumber][customer])\n",
    "    \n",
    "def priceAdjustmentRules(c, pricesCompanies):\n",
    "    return {\n",
    "        '0' : pricesCompanies[0],\n",
    "        '1' : 9 if pricesCompanies[c]<4 else round(min([max(3.9, pricesCompanies[company]-0.5) for company in range(numberPlayers) if company != c]),2),\n",
    "        '2' : 12 if pricesCompanies[c]<6 else round(min([max(5.9, pricesCompanies[company]-0.5) for company in range(numberPlayers) if company != c]),2),\n",
    "        '3' : round(random.uniform(11,11),2),\n",
    "        '4' : round(random.uniform(13,13),2)\n",
    "    }[str(c)]\n",
    "\n",
    "def calculatePrices(pricesCompaniesAdjustments, adjustingFirm):\n",
    "    for i in range(len(pricesCompaniesAdjustments)):\n",
    "        if i > 0:\n",
    "            pricesCompaniesAdjustments[i][adjustingFirm[i]] = priceAdjustmentRules(adjustingFirm[i],pricesCompaniesAdjustments[i-1])\n",
    "    return pricesCompaniesAdjustments"
   ]
  },
  {
   "cell_type": "code",
   "execution_count": null,
   "metadata": {
    "collapsed": true
   },
   "outputs": [],
   "source": [
    "timeBetweenMarketEventsCompany = np.array([[[random.uniform(0.8,1.2) if company!= watchedCompany else reactionTimeCompany for i in range(m)] for company in range(numberPlayers)] for _ in range(numberSimulations)])\n",
    "timeOfAdjustmentsCompany = np.array([[[calculateTimeOfAdjustmentsCompany(company,simulationNumber ,i,timeBetweenMarketEventsCompany) for i in range(m)] for company in range(numberPlayers)] for simulationNumber in range(numberSimulations)])\n",
    "\n",
    "priceAdjustmentsBeforeHorizon = np.array([set([timeOfAdjustmentsCompany[simulationNumber].flatten()[i] for i in range(len(timeOfAdjustmentsCompany[simulationNumber].flatten())) if timeOfAdjustmentsCompany[simulationNumber].flatten()[i] < timeHorizon])for simulationNumber in range(numberSimulations)])\n",
    "priceAdjustmentsBeforeHorizon = np.array([sorted(priceAdjustmentsBeforeHorizon[simulationNumber]) for simulationNumber in range(numberSimulations)])\n",
    "\n",
    "numberPriceAdjustmentsBeforeHorizon = np.array([len(priceAdjustmentsBeforeHorizon[simulationNumber]) for simulationNumber in range(numberSimulations)])\n",
    "\n",
    "timeMarketEvents = np.array([[0 if i==0 else priceAdjustmentsBeforeHorizon[simulationNumber][i-1] for i in range(numberPriceAdjustmentsBeforeHorizon[simulationNumber]+1)]for simulationNumber in range(numberSimulations)])\n",
    "timeBetweenMarketEventsCustomer = np.array([[timeMarketEvents[simulationNumber][i+1]-timeMarketEvents[simulationNumber][i] for i in range(numberPriceAdjustmentsBeforeHorizon[simulationNumber])] for simulationNumber in range(numberSimulations)])\n",
    "\n",
    "timeBetweenCustomerEvents = np.array([[meanTimeBetweenCustomerArrival*np.random.exponential() for _ in range(numberCustomerEvents)]for simulationNumber in range(numberSimulations)])\n",
    "timeCustomerEvents = np.array([[calculateTimeOfCustomerArrival(customer, simulationNumber, timeBetweenMarketEventsCustomer) for customer in range(numberCustomerEvents)] for simulationNumber in range(numberSimulations)])\n",
    "\n",
    "adjustingFirm = np.array([[min(np.where(timeOfAdjustmentsCompany[simulationNumber]==priceAdjustmentsBeforeHorizon[simulationNumber][i] )[0]) for i in range(numberPriceAdjustmentsBeforeHorizon[simulationNumber])] for simulationNumber in range(numberSimulations)])\n",
    "\n",
    "randomCustomerScoringQuality = np.array([[random.uniform(0,1) for _ in range(numberCustomerEvents)] for simulationNumber in range(numberSimulations)])\n",
    "randomCustomerScoringRating = np.array([[random.uniform(0,0.5) for _ in range(numberCustomerEvents)] for simulationNumber in range(numberSimulations)])\n",
    "                         \n",
    "customerScoringQualityRating = np.array([[[[(randomCustomerScoringQuality[s][c]*qualityCompaniesPred[k,w] +\n",
    "    randomCustomerScoringRating[s][c]*(100-ratingCompaniesPred[k,w]))for k in range(numberPlayers)] for c in range(numberCustomerEvents)] for s in range(numberSimulations)]for w in range(numberConsideredMarketSituations)])\n",
    "pricesCompanies = np.array([[[pricesCompaniesPred[k,w] if k!=watchedCompany else prices[a] for w in range(numberConsideredMarketSituations)] for a in range(len(prices))]  for k in range(numberPlayers)])\n",
    "pricesCompaniesAdjustments = np.array([[[[[pricesCompanies[k,a,w]  for k in range(numberPlayers)]for _ in range(numberPriceAdjustmentsBeforeHorizon[s])] for s in range(numberSimulations)] for w in range(numberConsideredMarketSituations)] for a in range(len(prices))])\n",
    "pricesCompaniesAdjustments = np.array([[[np.array(calculatePrices(pricesCompaniesAdjustments[a,w,s], adjustingFirm[s])) for s in range(numberSimulations)] for w in range(numberConsideredMarketSituations)] for a in range(len(prices))])\n",
    "\n",
    "gen = np.array([[[[list((x for x in range(numberCustomerEvents) if timeMarketEvents[s][i]< timeCustomerEvents[s][x]< timeMarketEvents[s][i+1])) for i in range(numberPriceAdjustmentsBeforeHorizon[s])] for s in range(numberSimulations)] for w in range(numberConsideredMarketSituations)] for a in range(len(prices))])\n",
    "randomCustomerScoring = np.array([[[[[[(pricesCompaniesAdjustments[a,w,s][i,k] + customerScoringQualityRating[w,s,c,k]) for k in range(numberPlayers)]for c in gen[a,w,s][i]]for i in range(numberPriceAdjustmentsBeforeHorizon[s])] for s in range(numberSimulations)] for w in range(numberConsideredMarketSituations)] for a in range(len(prices))])\n",
    "randomCustomerDecision = np.array([[[[[np.argmin(randomCustomerScoring[a,w,s][i][c]) if min(randomCustomerScoring[a,w,s][i][c])< random.uniform(5,15) else -1 for c in range(len(gen[a,w,s][i]))]for i in range(numberPriceAdjustmentsBeforeHorizon[s])] for s in range(numberSimulations)] for w in range(numberConsideredMarketSituations)] for a in range(len(prices))])\n",
    "As = np.array([[[[np.count_nonzero(np.hstack(randomCustomerDecision[a,w,s])== k) for k in range(numberPlayers)]for s in range(numberSimulations)] for w in range(numberConsideredMarketSituations)] for a in range(len(prices))])\n",
    "\n",
    "A = np.array([[[[1/numberSimulations*np.count_nonzero(As[a,w,:,k]==x) for k in range(numberPlayers)]for x in range(6)]for w in range(numberConsideredMarketSituations)] for a in range(len(prices))])\n",
    "P_ori = [[1- A[a,w,0,watchedCompany]for w in range(numberConsideredMarketSituations)] for a in range(len(prices))]\n",
    "P_ori2 = [[sum([A[a,w,2,watchedCompany]for x in range(2,6)])for w in range(numberConsideredMarketSituations)] for a in range(len(prices))]\n",
    "\n",
    "EW_ori = [[prices[a]*P_ori[a][w] for w in range(numberConsideredMarketSituations)]for a in range(len(prices))]\n",
    "EW_est = [[prices[a]*predictionEstimated[w][a] for w in range(numberConsideredMarketSituations)]for a in range(len(prices))]\n",
    "\n",
    "D_P = [1/numberConsideredMarketSituations*sum([abs(P_ori[a][w]- predictionEstimated[w][a]) for w in range(numberConsideredMarketSituations)]) for a in range(len(prices))]\n",
    "D_EW = [1/numberConsideredMarketSituations*sum([abs(EW_ori[a][w]- EW_est[a][w]) for w in range(numberConsideredMarketSituations)]) for a in range(len(prices))]\n",
    "\n",
    "with open('PEW_comparison_S3.csv', 'w') as file:\n",
    "    writer = csv.writer(file, delimiter='\\t')\n",
    "    for w in range(numberConsideredMarketSituations):\n",
    "        for a in range(len(prices)):\n",
    "            line = [w+1,prices[a],P_ori[a][w], P_ori2[a][w], predictionEstimated[w][a], EW_ori[a][w], EW_est[a][w], D_P[a], D_EW[a]]\n",
    "            writer.writerow(line)"
   ]
  }
 ],
 "metadata": {
  "kernelspec": {
   "display_name": "Python 3",
   "language": "python",
   "name": "python3"
  },
  "language_info": {
   "codemirror_mode": {
    "name": "ipython",
    "version": 3
   },
   "file_extension": ".py",
   "mimetype": "text/x-python",
   "name": "python",
   "nbconvert_exporter": "python",
   "pygments_lexer": "ipython3",
   "version": "3.6.3"
  }
 },
 "nbformat": 4,
 "nbformat_minor": 2
}
