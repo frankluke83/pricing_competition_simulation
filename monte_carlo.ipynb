{
 "cells": [
  {
   "cell_type": "code",
   "execution_count": 43,
   "metadata": {},
   "outputs": [
    {
     "name": "stdout",
     "output_type": "stream",
     "text": [
      "The line_profiler extension is already loaded. To reload it, use:\n",
      "  %reload_ext line_profiler\n"
     ]
    }
   ],
   "source": [
    "import numpy as np\n",
    "import random\n",
    "import csv\n",
    "import line_profiler\n",
    "%load_ext line_profiler"
   ]
  },
  {
   "cell_type": "code",
   "execution_count": 44,
   "metadata": {
    "collapsed": true
   },
   "outputs": [],
   "source": [
    "numberPlayers = 5\n",
    "timeHorizon = 1\n",
    "numberMarketReactionEvents = round(1.1*timeHorizon)\n",
    "meanTimeBetweenCustomerArrival = 2\n",
    "numberOfCustomerEvents = round(1.1*timeHorizon/meanTimeBetweenCustomerArrival)\n",
    "prices = np.arange(0,15.1,0.1)\n",
    "watchedCompany = 0\n",
    "numberSimulations = 1000"
   ]
  },
  {
   "cell_type": "code",
   "execution_count": 45,
   "metadata": {
    "collapsed": true
   },
   "outputs": [],
   "source": [
    "pricesCompanies = np.array([round(random.uniform(6,16),2) for _ in range(numberPlayers)])\n",
    "qualityCompanies = np.array([round(random.uniform(0.5,5.5)) for _ in range(numberPlayers)])\n",
    "ratingCompanies = np.array([round(random.uniform(90,100),1) for _ in range(numberPlayers)])"
   ]
  },
  {
   "cell_type": "code",
   "execution_count": 46,
   "metadata": {
    "collapsed": true
   },
   "outputs": [],
   "source": [
    "numberConsideredMarketSituations = 40\n",
    "\n",
    "pricesCompaniesPred = np.array([[round(random.uniform(6,16),2) for _ in range(numberConsideredMarketSituations)]  for _ in range(numberPlayers)])\n",
    "qualityCompaniesPred = np.array([[round(random.uniform(0.5,5.5)) for _ in range(numberConsideredMarketSituations)]  for _ in range(numberPlayers)])\n",
    "ratingCompaniesPred = np.array([[round(random.uniform(90,100),1) for _ in range(numberConsideredMarketSituations)] for _ in range(numberPlayers)])\n",
    "\n",
    "priceRanksForFirm = [1 +  \n",
    "              sum([1 for i in range(numberPlayers) if prices[j]> pricesCompanies[i] and i!=watchedCompany]) +\n",
    "              sum([1 for i in range(numberPlayers) if prices[j]== pricesCompanies[i] and i!=watchedCompany])/2\n",
    "              for j in range(len(prices))]\n",
    "qualityRankForFirm = (1 +  \n",
    "              sum([1 for i in range(numberPlayers) if qualityCompanies[watchedCompany]> qualityCompanies[i] and i!=watchedCompany]) +\n",
    "              sum([1 for i in range(numberPlayers) if qualityCompanies[watchedCompany]== qualityCompanies[i] and i!=watchedCompany])/2)\n",
    "                \n",
    "ratingRankForFirm = (1 +  \n",
    "              sum([1 for i in range(numberPlayers) if ratingCompanies[watchedCompany]> ratingCompanies[i] and i!=watchedCompany]) +\n",
    "              sum([1 for i in range(numberPlayers) if ratingCompanies[watchedCompany]== ratingCompanies[i] and i!=watchedCompany])/2)\n",
    "             \n",
    "ratingRanks = [1 +  \n",
    "              sum([1 for i in range(numberPlayers) if ratingCompanies[j]> ratingCompanies[i] and i!=j]) +\n",
    "              sum([1 for i in range(numberPlayers) if ratingCompanies[j]== ratingCompanies[i] and i!=j])/2\n",
    "              for j in range(numberPlayers)]\n",
    "\n",
    "numberExplanatoryVariables = 10\n",
    "\n",
    "def explanatoryVariables(explanatoryVariable, numberPrice):\n",
    "    return {\n",
    "        '0' : 1,\n",
    "        '1' : priceRanksForFirm[numberPrice],\n",
    "        '2' : 1 if priceRanksForFirm[numberPrice]==1 else 0,\n",
    "        '3' : qualityRankForFirm,\n",
    "        '4' : ratingRankForFirm,\n",
    "        '5' : prices[numberPrice],\n",
    "        '6' : prices[numberPrice] - min([pricesCompanies[j] for j in range(numberPlayers) if j!=watchedCompany]) if numberPlayers > 1 else 0,\n",
    "        '7' : qualityCompanies[watchedCompany],\n",
    "        '8' : ratingCompanies[watchedCompany],\n",
    "        '9' : 15 - (prices[numberPrice]+0.5*qualityCompanies[watchedCompany]+0.25*(100-ratingCompanies[watchedCompany])) if(\n",
    "        (prices[numberPrice]+0.5*qualityCompanies[watchedCompany]+0.25*(100-ratingCompanies[watchedCompany])) <\n",
    "        min([pricesCompanies[j] +0.5*qualityCompanies[j]+0.25*(100-ratingCompanies[j]) for j in range(numberPlayers) if j!= watchedCompany]))\n",
    "        else 0,\n",
    "    }[str(explanatoryVariable)]\n",
    "\n",
    "valuesExplanatoryVariables = [[explanatoryVariables(explanatoryVariable, numberPrice) for explanatoryVariable in range(numberExplanatoryVariables)] for numberPrice in range(len(prices))]\n",
    "predictionEstimated = [[0.5 for _ in range(len(prices))] for _ in range(numberConsideredMarketSituations)]\n",
    "\n",
    "with open('demand_prediction_data_S3.txt', 'w') as file:\n",
    "    writer = csv.writer(file, delimiter='\\t')\n",
    "    for count in range(numberConsideredMarketSituations):\n",
    "        for numberPrice in range(len(prices)):\n",
    "            line = list(valuesExplanatoryVariables[numberPrice])\n",
    "            line.remove(1)\n",
    "            line.insert(0, prices[numberPrice])\n",
    "            line.insert(0, count+1)\n",
    "            writer.writerow(line)"
   ]
  },
  {
   "cell_type": "code",
   "execution_count": 47,
   "metadata": {
    "collapsed": true
   },
   "outputs": [],
   "source": [
    "def calculateTimeOfAdjustmentsCompany(company, simulationNumber, i, timeBetweenMarketEventsCompany):\n",
    "    if i==0:\n",
    "        if company != watchedCompany:\n",
    "            return(random.uniform(0,1))\n",
    "        else:\n",
    "            return(reactionTimeCompany)\n",
    "    else:\n",
    "        return(calculateTimeOfAdjustmentsCompany(company, simulationNumber, i-1, timeBetweenMarketEventsCompany)+ timeBetweenMarketEventsCompany[simulationNumber][company][i])\n",
    "    \n",
    "def calculateTimeOfCustomerArrival(customer, simulationNumber, timeBetweenMarketEventsCustomer):\n",
    "    if customer==0:\n",
    "        return 0\n",
    "    else:\n",
    "        return(calculateTimeOfCustomerArrival(customer-1, simulationNumber, timeBetweenMarketEventsCustomer) + timeBetweenMarketEventsCustomer[simulationNumber][customer])\n",
    "    \n",
    "def priceAdjustmentRules(c, pricesCompanies):\n",
    "    return {\n",
    "        '0' : pricesCompanies[0],\n",
    "        '1' : 9 if pricesCompanies[c]<4 else min([max(3.9, pricesCompanies[company]-0.5) for company in range(numberPlayers) if company != c]),\n",
    "        '2' : 12 if pricesCompanies[c]<6 else min([max(5.9, pricesCompanies[company]-0.5) for company in range(numberPlayers) if company != c]),\n",
    "        '3' : round(random.uniform(11,11),2),\n",
    "        '4' : round(random.uniform(13,13),2)\n",
    "    }[str(c)]\n",
    "\n",
    "def calculatePrices(pricesCompaniesAdjustments, adjustingFirm):\n",
    "    for i in range(len(pricesCompaniesAdjustments)):\n",
    "        if i > 0:\n",
    "            pricesCompaniesAdjustments[i, adjustingFirm[i]] = priceAdjustmentRules(adjustingFirm[i],pricesCompaniesAdjustments[i-1])\n",
    "    return pricesCompaniesAdjustments"
   ]
  },
  {
   "cell_type": "code",
   "execution_count": 48,
   "metadata": {},
   "outputs": [],
   "source": [
    "m=2\n",
    "numberCustomerEvents=4\n",
    "simulatedHorizon = 1\n",
    "reactionTimeCompany = timeHorizon\n",
    "\n",
    "timeBetweenMarketEventsCompany = np.array([[[random.uniform(0.8,1.2) if company!= watchedCompany else reactionTimeCompany for i in range(m)] for company in range(numberPlayers)] for _ in range(numberSimulations)])\n",
    "timeOfAdjustmentsCompany = np.array([[[calculateTimeOfAdjustmentsCompany(company,simulationNumber ,i,timeBetweenMarketEventsCompany) for i in range(m)] for company in range(numberPlayers)] for simulationNumber in range(numberSimulations)])\n",
    "\n",
    "priceAdjustmentsBeforeHorizon = np.array([set([timeOfAdjustmentsCompany[simulationNumber].flatten()[i] for i in range(len(timeOfAdjustmentsCompany[simulationNumber].flatten())) if timeOfAdjustmentsCompany[simulationNumber].flatten()[i] < timeHorizon])for simulationNumber in range(numberSimulations)])\n",
    "priceAdjustmentsBeforeHorizon = np.array([sorted(priceAdjustmentsBeforeHorizon[simulationNumber]) for simulationNumber in range(numberSimulations)])\n",
    "\n",
    "numberPriceAdjustmentsBeforeHorizon = np.array([len(priceAdjustmentsBeforeHorizon[simulationNumber]) for simulationNumber in range(numberSimulations)])\n",
    "\n",
    "timeMarketEvents = np.array([[0 if i==0 else priceAdjustmentsBeforeHorizon[simulationNumber][i-1] for i in range(numberPriceAdjustmentsBeforeHorizon[simulationNumber]+1)]for simulationNumber in range(numberSimulations)])\n",
    "timeBetweenMarketEventsCustomer = np.array([[timeMarketEvents[simulationNumber][i+1]-timeMarketEvents[simulationNumber][i] for i in range(numberPriceAdjustmentsBeforeHorizon[simulationNumber])] for simulationNumber in range(numberSimulations)])\n",
    "\n",
    "timeBetweenCustomerEvents = np.array([[meanTimeBetweenCustomerArrival*np.random.exponential() for _ in range(numberCustomerEvents)]for simulationNumber in range(numberSimulations)])\n",
    "timeCustomerEvents = np.array([[calculateTimeOfCustomerArrival(customer, simulationNumber, timeBetweenMarketEventsCustomer) for customer in range(numberCustomerEvents)] for simulationNumber in range(numberSimulations)])\n",
    "\n",
    "adjustingFirm = np.array([[min(np.where(timeOfAdjustmentsCompany[simulationNumber]==priceAdjustmentsBeforeHorizon[simulationNumber][i] )[0]) for i in range(numberPriceAdjustmentsBeforeHorizon[simulationNumber])] for simulationNumber in range(numberSimulations)])\n",
    "\n",
    "randomCustomerScoring = np.array([[0 for _ in range(numberPlayers)] for simulationNumber in range(numberSimulations)])\n",
    "randomCustomerDecision = np.array([[-1 for _ in range(numberCustomerEvents)] for simulationNumber in range(numberSimulations)])\n",
    "randomCustomerScoringQuality = np.array([[random.uniform(0,1) for _ in range(numberCustomerEvents)] for simulationNumber in range(numberSimulations)])\n",
    "randomCustomerScoringRating = np.array([[random.uniform(0,0.5) for _ in range(numberCustomerEvents)] for simulationNumber in range(numberSimulations)])\n",
    "\n",
    "As = np.array([[[0 for _ in range(numberConsideredMarketSituations)]for _ in range(numberSimulations)] for simulationNumber in range(numberPlayers)])\n",
    "A = np.array([[[float(0) for _ in range(numberConsideredMarketSituations)]for _ in range(6)]for _ in range(numberPlayers)])\n",
    "\n",
    "P_ori = np.array([[float(0) for _ in range(len(prices))] for _ in range(numberConsideredMarketSituations)])\n",
    "P_ori2 = np.array([[float(0) for _ in range(len(prices))] for _ in range(numberConsideredMarketSituations)])\n",
    "\n",
    "playersWithoutWatched = [i for i in range(numberPlayers) if i!=watchedCompany]\n",
    "for w in range(numberConsideredMarketSituations):\n",
    "    pricesCompaniesPredW= pricesCompaniesPred[:,w]\n",
    "    qualityCompanies = [qualityCompaniesPred[k, w] for k in range(numberPlayers)]\n",
    "    ratingCompanies = [ratingCompaniesPred[k, w] for k in range(numberPlayers)]\n",
    "    customerScoringQualityRating = np.array([[[(randomCustomerScoringQuality[s][c]*qualityCompanies[k] +\n",
    "                                                          randomCustomerScoringRating[s][c]*(100-ratingCompanies[k]))for k in range(numberPlayers)] for c in range(numberCustomerEvents)] for s in range(numberSimulations)])\n",
    "    for a in range(len(prices)):\n",
    "        AsSim = np.array(As[:,:,w])\n",
    "        randomCustomerDecision = np.array([[-1 for _ in range(numberCustomerEvents)] for simulationNumber in range(numberSimulations)])\n",
    "        for s in range(numberSimulations):\n",
    "            randomCustomerScoringSim = randomCustomerScoring[s]\n",
    "            pricesCompanies[watchedCompany]=prices[a]\n",
    "            if numberPlayers>1:\n",
    "                pricesCompanies[playersWithoutWatched] = [pricesCompaniesPredW[k] for k in playersWithoutWatched]\n",
    "            numberPriceAdjustmentsBeforeHorizonCurrent = numberPriceAdjustmentsBeforeHorizon[s]\n",
    "            pricesCompaniesAdjustments = np.array([[pricesCompanies[i] for i in range(numberPlayers)]for _ in range(numberPriceAdjustmentsBeforeHorizonCurrent)])\n",
    "            pricesCompaniesAdjustments = np.array(calculatePrices(pricesCompaniesAdjustments, adjustingFirm[s]))\n",
    "            for i in range(numberPriceAdjustmentsBeforeHorizonCurrent):\n",
    "                gen = list((x for x in range(numberCustomerEvents) if timeMarketEvents[s][i]< timeCustomerEvents[s][x]< timeMarketEvents[s][i+1]))\n",
    "                randomCustomerScoringSim = np.array([[(pricesCompaniesAdjustments[i][k] + customerScoringQualityRating[s,c,k])for k in range(numberPlayers)] for c in gen])\n",
    "                indexGen = [x - min(gen) for x in gen]\n",
    "                for c in indexGen:\n",
    "                    if min(randomCustomerScoringSim[c]) < random.uniform(5,15):\n",
    "                        randomCustomerDecision[s][c] = np.argmin([randomCustomerScoringSim[c][company] for company in range(numberPlayers)])\n",
    "                        AsSim[randomCustomerDecision[s][c]][s]=AsSim[randomCustomerDecision[s][c]][s] +1 \n",
    "        for x in range(6):\n",
    "            for company in range(numberPlayers):\n",
    "                salesForDecision = np.array(AsSim[company,:])\n",
    "                A[company][x][w] = 1/numberSimulations*len(salesForDecision[salesForDecision==x])\n",
    "        P_ori[w][a] = 1-A[watchedCompany][0][w]\n",
    "        P_ori2[w][a] = A[watchedCompany][2][w]\n",
    "\n",
    "EW_ori = [[prices[a]*P_ori[w][a] for w in range(numberConsideredMarketSituations)]for a in range(len(prices))]\n",
    "EW_est = [[prices[a]*predictionEstimated[w][a] for w in range(numberConsideredMarketSituations)]for a in range(len(prices))]\n",
    "\n",
    "D_P = [1/numberConsideredMarketSituations*sum([abs(P_ori[w][a]- predictionEstimated[w][a]) for w in range(numberConsideredMarketSituations)]) for a in range(len(prices))]\n",
    "D_EW = [1/numberConsideredMarketSituations*sum([abs(EW_ori[a][w]- EW_est[a][w]) for w in range(numberConsideredMarketSituations)]) for a in range(len(prices))]\n",
    "with open('PEW_vergleich_csv_S3.txt', 'w') as file:\n",
    "    writer = csv.writer(file, delimiter='\\t')\n",
    "    for w in range(numberConsideredMarketSituations):\n",
    "        for a in range(len(prices)):\n",
    "            line = [w+1,prices[a],P_ori[w][a], P_ori2[w][a], predictionEstimated[w][a], EW_ori[a][w], EW_est[a][w], D_P[a], D_EW[a]]\n",
    "            writer.writerow(line)\n",
    "\n"
   ]
  },
  {
   "cell_type": "code",
   "execution_count": null,
   "metadata": {},
   "outputs": [],
   "source": []
  },
  {
   "cell_type": "code",
   "execution_count": null,
   "metadata": {
    "collapsed": true
   },
   "outputs": [],
   "source": []
  }
 ],
 "metadata": {
  "kernelspec": {
   "display_name": "Python 3",
   "language": "python",
   "name": "python3"
  },
  "language_info": {
   "codemirror_mode": {
    "name": "ipython",
    "version": 3
   },
   "file_extension": ".py",
   "mimetype": "text/x-python",
   "name": "python",
   "nbconvert_exporter": "python",
   "pygments_lexer": "ipython3",
   "version": "3.6.3"
  }
 },
 "nbformat": 4,
 "nbformat_minor": 2
}
