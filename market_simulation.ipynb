{
 "cells": [
  {
   "cell_type": "code",
   "execution_count": 1,
   "metadata": {
    "collapsed": true
   },
   "outputs": [],
   "source": [
    "import random\n",
    "import numpy as np\n",
    "import csv"
   ]
  },
  {
   "cell_type": "code",
   "execution_count": 2,
   "metadata": {
    "collapsed": true
   },
   "outputs": [],
   "source": [
    "def start():\n",
    "    AA = list(range(0,15,1));\n",
    "    for i in range(iterateDifferentStart) : {\n",
    "        createBasicInfo()\n",
    "    }"
   ]
  },
  {
   "cell_type": "code",
   "execution_count": 3,
   "metadata": {
    "collapsed": true,
    "scrolled": true
   },
   "outputs": [],
   "source": [
    "def createBasicInfo():\n",
    "    pricesCompanies = [round(random.uniform(6,16),2) for _ in range(numberPlayers)]\n",
    "    qualityCompanies = [round(random.uniform(1,5)) for _ in range(numberPlayers)]\n",
    "    ratingCompanies = [round(random.uniform(90,100),1) for _ in range(numberPlayers)]\n",
    "    \n",
    "    priceRanks = [1 +  \n",
    "              sum([1 for i in range(numberPlayers) if pricesCompanies[j]> pricesCompanies[i] and i!=j]) +\n",
    "              sum([1 for i in range(numberPlayers) if pricesCompanies[j]== pricesCompanies[i] and i!=j])/2\n",
    "              for j in range(numberPlayers)]\n",
    "\n",
    "    qualityRanks = [1 +  \n",
    "              sum([1 for i in range(numberPlayers) if qualityCompanies[j]> qualityCompanies[i] and i!=j]) +\n",
    "              sum([1 for i in range(numberPlayers) if qualityCompanies[j]== qualityCompanies[i] and i!=j])/2\n",
    "              for j in range(numberPlayers)]\n",
    "\n",
    "    ratingRanks = [1 +  \n",
    "              sum([1 for i in range(numberPlayers) if ratingCompanies[j]> ratingCompanies[i] and i!=j]) +\n",
    "              sum([1 for i in range(numberPlayers) if ratingCompanies[j]== ratingCompanies[i] and i!=j])/2\n",
    "              for j in range(numberPlayers)]\n",
    "\n",
    "    accumulatedProfit = [0 for _ in range(numberPlayers)]; # for example: sum([x+5 for x in range(numberPlayersForIndex)])\n",
    "    createSimulationParameters(pricesCompanies, qualityCompanies, ratingCompanies, priceRanks, qualityRanks, ratingRanks, accumulatedProfit)"
   ]
  },
  {
   "cell_type": "code",
   "execution_count": 4,
   "metadata": {
    "collapsed": true
   },
   "outputs": [],
   "source": [
    "def calculateTimeOfAdjustmentsCompany(numberReactionEvent, company, timeBetweenMarketEvents):\n",
    "    if numberReactionEvent==0:\n",
    "        return(random.uniform(0,1)) \n",
    "    else: return(calculateTimeOfAdjustmentsCompany(numberReactionEvent-1, company, timeBetweenMarketEvents)+timeBetweenMarketEvents[company][numberReactionEvent]);\n",
    "    \n",
    "def calculateTimeOfCustomerArrival(numberCustomerEvent, timeBetweenCustomerEvents):\n",
    "    if numberCustomerEvent==0:\n",
    "        return(0)\n",
    "    else:\n",
    "        return(calculateTimeOfCustomerArrival(numberCustomerEvent-1, timeBetweenCustomerEvents) + timeBetweenCustomerEvents[numberCustomerEvent]);\n",
    "\n"
   ]
  },
  {
   "cell_type": "code",
   "execution_count": 5,
   "metadata": {
    "collapsed": true
   },
   "outputs": [],
   "source": [
    "def createSimulationParameters(pricesCompanies, qualityCompanies, ratingCompanies, priceRanks, qualityRanks, ratingRanks, accumulatedProfit):\n",
    "    timeBetweenMarketEvents = [[random.uniform(0.8,1.2) if numberReactionEvents!= 1 else 1.1 for _ in range(numberReactionEvents)] for _ in range(numberPlayers)]\n",
    "\n",
    "\n",
    "    timeOfAdjustmentsCompany = np.array([[calculateTimeOfAdjustmentsCompany(i,j, timeBetweenMarketEvents) for i in range(numberReactionEvents)] for j in range(numberPlayers)])\n",
    "\n",
    "    priceAdjustmentsBeforeHorizon = set([timeOfAdjustmentsCompany.flatten()[i] for i in range(len(timeOfAdjustmentsCompany.flatten())) if timeOfAdjustmentsCompany.flatten()[i] < timeHorizon])\n",
    "    priceAdjustmentsBeforeHorizon.add(timeHorizon)\n",
    "    priceAdjustmentsBeforeHorizon = sorted(priceAdjustmentsBeforeHorizon)\n",
    "\n",
    "    numberPriceAdjustmentsBeforeHorizon = len(priceAdjustmentsBeforeHorizon)\n",
    "\n",
    "    timePriceAdjustments = [priceAdjustmentsBeforeHorizon[i] for i in range(numberPriceAdjustmentsBeforeHorizon)]\n",
    "\n",
    "    #we have to be careful because of the first timeslot\n",
    "    timeBetweenAdjustments = [timePriceAdjustments[i]-timePriceAdjustments[i-1] if i> 0 else timePriceAdjustments[i] for i in range(numberPriceAdjustmentsBeforeHorizon)]\n",
    "\n",
    "    timeBetweenCustomerEvents = [meanDifferenceCustomerArrival*np.random.exponential() for _ in range(numberCustomerEvents)]\n",
    "\n",
    "    timeOfCustomerArrival = [calculateTimeOfCustomerArrival(i, timeBetweenCustomerEvents) for i in range(numberCustomerEvents)]    \n",
    "    \n",
    "    companyAdjustingAtTime = [min(np.where(timeOfAdjustmentsCompany==timePriceAdjustments[i])[0])if timePriceAdjustments[i]!=timeHorizon else -1  for i in range(numberPriceAdjustmentsBeforeHorizon)]    \n",
    "    \n",
    "    randomCustomerScoringOfCompany = [[0 for _ in range(numberCustomerEvents)] for _ in range(numberPlayers)]\n",
    "\n",
    "    randomCustomerScoringQuality = [random.uniform(0,1) for _ in range(numberCustomerEvents)]\n",
    "\n",
    "    randomCustomerScoringRating = [random.uniform(0,0.5) for _ in range(numberCustomerEvents)]\n",
    "\n",
    "    randomCustomerDecision = [None for _ in range(numberCustomerEvents)]\n",
    "\n",
    "    \n",
    "    for j in range(iterateSameStart): {\n",
    "        createWatchParameters(pricesCompanies, qualityCompanies, ratingCompanies, priceRanks, qualityRanks, ratingRanks, accumulatedProfit,\n",
    "                     timeBetweenMarketEvents, timeOfAdjustmentsCompany, priceAdjustmentsBeforeHorizon, numberPriceAdjustmentsBeforeHorizon,\n",
    "                     timePriceAdjustments, timeBetweenAdjustments, timeBetweenCustomerEvents, timeOfCustomerArrival, companyAdjustingAtTime,\n",
    "                     randomCustomerScoringOfCompany, randomCustomerScoringQuality, randomCustomerScoringRating, randomCustomerDecision)\n",
    "    }"
   ]
  },
  {
   "cell_type": "code",
   "execution_count": 6,
   "metadata": {
    "collapsed": true
   },
   "outputs": [],
   "source": [
    "def createWatchParameters(pricesCompanies, qualityCompanies, ratingCompanies, priceRanks, qualityRanks, ratingRanks, accumulatedProfit,\n",
    "                     timeBetweenMarketEvents, timeOfAdjustmentsCompany, priceAdjustmentsBeforeHorizon, numberPriceAdjustmentsBeforeHorizon,\n",
    "                     timePriceAdjustments, timeBetweenAdjustments, timeBetweenCustomerEvents, timeOfCustomerArrival, companyAdjustingAtTime,\n",
    "                     randomCustomerScoringOfCompany, randomCustomerScoringQuality, randomCustomerScoringRating, randomCustomerDecision):\n",
    "    currentTimeProcess = 0\n",
    "\n",
    "    countAdjustmentsCompany = 0\n",
    "\n",
    "    watchedCompany = companyToWatch\n",
    "    \n",
    "    countAdjustmentsWatchedCompany = sum([1 for i in range(numberPriceAdjustmentsBeforeHorizon) if companyAdjustingAtTime[i] == watchedCompany])\n",
    "\n",
    "    timeAdjustmentsWatchedCompany = [0 for _ in range(countAdjustmentsWatchedCompany+1)]\n",
    "\n",
    "    timeBetweenAdjustmentsWatchedCompany = [timeAdjustmentsWatchedCompany[i] - timeAdjustmentsWatchedCompany[i-1] for i in range(1, countAdjustmentsWatchedCompany)]\n",
    "\n",
    "    salesBetweenAdjustments = [0 for _ in range(countAdjustmentsWatchedCompany)]\n",
    "\n",
    "    price = [pricesCompanies[watchedCompany] for _ in range(1,countAdjustmentsWatchedCompany+2)]\n",
    "\n",
    "    quality = [qualityCompanies[watchedCompany] for _ in range(1,countAdjustmentsWatchedCompany+2)]\n",
    "\n",
    "    rating = [ratingCompanies[watchedCompany] for _ in range(1,countAdjustmentsWatchedCompany+2)]\n",
    "\n",
    "    pricesCompetitors = [[pricesCompanies[c] for _ in range(countAdjustmentsWatchedCompany+1)] for c in range(numberPlayers) ]\n",
    "\n",
    "    qualityCompetitors = [[qualityCompanies[c] for _ in range(countAdjustmentsWatchedCompany+1)] for c in range(numberPlayers) ]\n",
    "\n",
    "    ratingCompetitors = [[ratingCompanies[c] for _ in range(countAdjustmentsWatchedCompany+1)] for c in range(numberPlayers) ]\n",
    "    \n",
    "    runSimulation(pricesCompanies, qualityCompanies, ratingCompanies, priceRanks, qualityRanks, ratingRanks, accumulatedProfit,\n",
    "                     timeBetweenMarketEvents, timeOfAdjustmentsCompany, priceAdjustmentsBeforeHorizon, numberPriceAdjustmentsBeforeHorizon,\n",
    "                     timePriceAdjustments, timeBetweenAdjustments, timeBetweenCustomerEvents, timeOfCustomerArrival, companyAdjustingAtTime,\n",
    "                     randomCustomerScoringOfCompany, randomCustomerScoringQuality, randomCustomerScoringRating, randomCustomerDecision,\n",
    "                 currentTimeProcess, countAdjustmentsCompany, watchedCompany, countAdjustmentsWatchedCompany, timeAdjustmentsWatchedCompany,\n",
    "                 timeBetweenAdjustmentsWatchedCompany, salesBetweenAdjustments, price, quality, rating, pricesCompetitors, qualityCompetitors,\n",
    "                 ratingCompetitors)"
   ]
  },
  {
   "cell_type": "code",
   "execution_count": 7,
   "metadata": {
    "collapsed": true
   },
   "outputs": [],
   "source": [
    "def runSimulation(pricesCompanies, qualityCompanies, ratingCompanies, priceRanks, qualityRanks, ratingRanks, accumulatedProfit,\n",
    "                     timeBetweenMarketEvents, timeOfAdjustmentsCompany, priceAdjustmentsBeforeHorizon, numberPriceAdjustmentsBeforeHorizon,\n",
    "                     timePriceAdjustments, timeBetweenAdjustments, timeBetweenCustomerEvents, timeOfCustomerArrival, companyAdjustingAtTime,\n",
    "                     randomCustomerScoringOfCompany, randomCustomerScoringQuality, randomCustomerScoringRating, randomCustomerDecision,\n",
    "                 currentTimeProcess, countAdjustmentsCompany, watchedCompany, countAdjustmentsWatchedCompany, timeAdjustmentsWatchedCompany,\n",
    "                 timeBetweenAdjustmentsWatchedCompany, salesBetweenAdjustments, price, quality, rating, pricesCompetitors, qualityCompetitors,\n",
    "                 ratingCompetitors):\n",
    "    arrival_out =[[0 for _ in range(numberCustomerEvents)] for _ in range(numberPriceAdjustmentsBeforeHorizon-1)]\n",
    "    buying_out = [[0 for _ in range(numberCustomerEvents)] for _ in range(numberPriceAdjustmentsBeforeHorizon-1)]\n",
    "    trajekt1_out = [[0 for _ in range(numberPlayers)] for _ in range(numberPriceAdjustmentsBeforeHorizon-1)]\n",
    "    for i in range(1,numberPriceAdjustmentsBeforeHorizon): \n",
    "        for customer in [customer for customer in range(numberCustomerEvents) if timePriceAdjustments[i-1]< timeOfCustomerArrival[customer] < timePriceAdjustments[i]]:\n",
    "            arrival_out[i-1][customer]=[timeOfCustomerArrival[customer],0,customer]\n",
    "            for company in range(numberPlayers):\n",
    "                randomCustomerScoringOfCompany[company][customer]= (pricesCompanies[company]+ \n",
    "                randomCustomerScoringQuality[customer] * qualityCompanies[company] +\n",
    "                randomCustomerScoringRating[customer] * (100-ratingCompanies[company]));\n",
    "            if min([randomCustomerScoringOfCompany[company][customer] for company in range(numberPlayers)]) < random.uniform(5,15):\n",
    "                randomCustomerDecision[customer] = np.argmin([randomCustomerScoringOfCompany[company][customer] for company in range(numberPlayers)])\n",
    "                accumulatedProfit[randomCustomerDecision[customer]] = accumulatedProfit[randomCustomerDecision[customer]] + pricesCompanies[randomCustomerDecision[customer]];\n",
    "                buying_out[i-1][customer]=[timeOfCustomerArrival[customer], pricesCompanies[randomCustomerDecision[customer]], customer, randomCustomerDecision[customer]]\n",
    "        currentTimeProcess= priceAdjustmentsBeforeHorizon[i]\n",
    "        for company in range(numberPlayers):\n",
    "            trajekt1_out[i-1][company] = [pricesCompanies[company], currentTimeProcess, company]\n",
    "        if currentTimeProcess < timeHorizon:\n",
    "            pricesCompanies[companyAdjustingAtTime[i]] = priceAdjustmentRules(companyAdjustingAtTime[i], pricesCompanies)\n",
    "            priceRanks = [1 +  \n",
    "                  sum([1 for i in range(numberPlayers) if pricesCompanies[j]> pricesCompanies[i] and i!=j]) +\n",
    "                  sum([1 for i in range(numberPlayers) if pricesCompanies[j]== pricesCompanies[i] and i!=j])/2\n",
    "                  for j in range(numberPlayers)]\n",
    "        '''if random.uniform(0,1)<0.2:\n",
    "            qualityCompanies[companyAdjustingAtTime[i]] = round(random.uniform(0.5,5.5))\n",
    "            ratingCompanies[companyAdjustingAtTime[i]] = round(random.uniform(90,100),1)\n",
    "            qualityRanks = [1 +  \n",
    "                  sum([1 for i in range(numberPlayers) if qualityCompanies[j]> qualityCompanies[i] and i!=j]) +\n",
    "                  sum([1 for i in range(numberPlayers) if qualityCompanies[j]== qualityCompanies[i] and i!=j])/2\n",
    "                  for j in range(numberPlayers)]\n",
    "\n",
    "            ratingRanks = [1 +  \n",
    "                  sum([1 for i in range(numberPlayers) if ratingCompanies[j]> ratingCompanies[i] and i!=j]) +\n",
    "                  sum([1 for i in range(numberPlayers) if ratingCompanies[j]== ratingCompanies[i] and i!=j])/2\n",
    "                  for j in range(numberPlayers)]'''\n",
    "        if companyAdjustingAtTime[i]==watchedCompany:\n",
    "            countAdjustmentsCompany = countAdjustmentsCompany+1\n",
    "            timeAdjustmentsWatchedCompany[countAdjustmentsCompany]=currentTimeProcess\n",
    "            price[countAdjustmentsCompany] = pricesCompanies[watchedCompany]\n",
    "            quality[countAdjustmentsCompany] = qualityCompanies[watchedCompany]\n",
    "            rating[countAdjustmentsCompany] = ratingCompanies[watchedCompany]\n",
    "            salesBetweenAdjustments[countAdjustmentsCompany-1]= sum([1 for c in range(numberCustomerEvents) if timeAdjustmentsWatchedCompany[countAdjustmentsCompany-1]<timeOfCustomerArrival[c]<timeAdjustmentsWatchedCompany[countAdjustmentsCompany] and watchedCompany==randomCustomerDecision[c]])\n",
    "            for c in range(numberPlayers):\n",
    "                if c!= watchedCompany:\n",
    "                    pricesCompetitors[c][countAdjustmentsCompany]= pricesCompanies[c]\n",
    "                    qualityCompetitors[c][countAdjustmentsCompany]= qualityCompanies[c]\n",
    "                    ratingCompetitors[c][countAdjustmentsCompany]= ratingCompanies[c];\n",
    "    #print(salesBetweenAdjustments)\n",
    "    \n",
    "    with open('arrival_out_S3.txt', 'a') as file:\n",
    "        writer = csv.writer(file, delimiter='\\t')\n",
    "        for w in range(numberPriceAdjustmentsBeforeHorizon-1):\n",
    "            currentSim = list(filter(lambda x : x != 0, arrival_out[w]))\n",
    "            for c in range(len(currentSim)):\n",
    "                line = list(currentSim[c])\n",
    "                writer.writerow(line)\n",
    "            \n",
    "    with open('buying_out_S3.txt', 'a') as file:\n",
    "        writer = csv.writer(file, delimiter='\\t')\n",
    "        for w in range(numberPriceAdjustmentsBeforeHorizon-1):\n",
    "            currentSim = list(filter(lambda x : x != 0, buying_out[w]))\n",
    "            for c in range(len(currentSim)):\n",
    "                line = list(currentSim[c])\n",
    "                writer.writerow(line)\n",
    "            \n",
    "    with open('trajekt1_out_S3.txt', 'a') as file:\n",
    "        writer = csv.writer(file, delimiter='\\t')\n",
    "        for w in range(numberPriceAdjustmentsBeforeHorizon-1):\n",
    "            currentSim = list(filter(lambda x : x != 0, trajekt1_out[w]))\n",
    "            for k in range(len(currentSim)):\n",
    "                line= list(currentSim[k])\n",
    "                writer.writerow(line)\n",
    "\n",
    "    "
   ]
  },
  {
   "cell_type": "code",
   "execution_count": null,
   "metadata": {},
   "outputs": [],
   "source": [
    "def priceAdjustmentRules(c, pricesCompanies):\n",
    "    return {\n",
    "        '0' : 10 if pricesCompanies[c]<5 else round(min([max(4.9, pricesCompanies[company]-0.5) for company in range(numberPlayers) if company != c]),2),\n",
    "        '1' : 9 if pricesCompanies[c]<4 else round(min([max(3.9, pricesCompanies[company]-0.5) for company in range(numberPlayers) if company != c]),2),\n",
    "        '2' : 12 if pricesCompanies[c]<6 else round(min([max(5.9, pricesCompanies[company]-0.5) for company in range(numberPlayers) if company != c]),2),\n",
    "        '3' : round(random.uniform(11,11),2),\n",
    "        '4' : round(random.uniform(13,13),2)\n",
    "    }[str(c)]\n",
    "\n",
    "numberPlayers=5\n",
    "timeHorizon=200\n",
    "numberReactionEvents=timeHorizon+100\n",
    "meanDifferenceCustomerArrival=1\n",
    "numberCustomerEvents=int(timeHorizon/meanDifferenceCustomerArrival+100)\n",
    "iterateDifferentStart=100\n",
    "iterateSameStart=100\n",
    "companyToWatch=0\n",
    "start()"
   ]
  },
  {
   "cell_type": "code",
   "execution_count": null,
   "metadata": {
    "collapsed": true
   },
   "outputs": [],
   "source": [
    "\n",
    "\n",
    "            "
   ]
  },
  {
   "cell_type": "code",
   "execution_count": null,
   "metadata": {
    "collapsed": true
   },
   "outputs": [],
   "source": [
    "\n"
   ]
  }
 ],
 "metadata": {
  "kernelspec": {
   "display_name": "Python 3",
   "language": "python",
   "name": "python3"
  },
  "language_info": {
   "codemirror_mode": {
    "name": "ipython",
    "version": 3
   },
   "file_extension": ".py",
   "mimetype": "text/x-python",
   "name": "python",
   "nbconvert_exporter": "python",
   "pygments_lexer": "ipython3",
   "version": "3.6.3"
  }
 },
 "nbformat": 4,
 "nbformat_minor": 2
}
